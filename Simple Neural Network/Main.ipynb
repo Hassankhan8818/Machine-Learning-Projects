{
 "cells": [
  {
   "cell_type": "markdown",
   "id": "8221220f",
   "metadata": {},
   "source": [
    "# Importing Necessary Libraries"
   ]
  },
  {
   "cell_type": "code",
   "execution_count": 20,
   "id": "b0c1afba",
   "metadata": {},
   "outputs": [],
   "source": [
    "import pandas  as pd\n",
    "import tensorflow as tf\n",
    "from   tensorflow.keras.models import Sequential\n",
    "from   tensorflow.keras.layers import Dense  "
   ]
  },
  {
   "cell_type": "markdown",
   "id": "f7af6e86",
   "metadata": {},
   "source": [
    "# Data Set for the Model Training"
   ]
  },
  {
   "cell_type": "code",
   "execution_count": 21,
   "id": "57c30a6e",
   "metadata": {},
   "outputs": [],
   "source": [
    "train_data = pd.read_csv('./train.csv')\n",
    "test_data  = pd.read_csv('./test.csv')"
   ]
  },
  {
   "cell_type": "markdown",
   "id": "a4221471",
   "metadata": {},
   "source": [
    "# Selecting features on which the model will be trained"
   ]
  },
  {
   "cell_type": "code",
   "execution_count": 22,
   "id": "f5937dd3",
   "metadata": {},
   "outputs": [],
   "source": [
    "features = [\"Pclass\", \"Sex\", \"SibSp\", \"Parch\"]"
   ]
  },
  {
   "cell_type": "markdown",
   "id": "7a343167",
   "metadata": {},
   "source": [
    "# Data Pre-Processing"
   ]
  },
  {
   "cell_type": "code",
   "execution_count": 23,
   "id": "a9fff63f",
   "metadata": {},
   "outputs": [],
   "source": [
    "X_train       = pd.get_dummies(train_data[features])\n",
    "y_train       = train_data[\"Survived\"]\n",
    "final_X_test  = pd.get_dummies(test_data[features])"
   ]
  },
  {
   "cell_type": "markdown",
   "id": "d7b4a641",
   "metadata": {},
   "source": [
    "# Defining Parameters for the Neural Network"
   ]
  },
  {
   "cell_type": "code",
   "execution_count": 24,
   "id": "529239ed",
   "metadata": {},
   "outputs": [],
   "source": [
    "input_dim   = len(X_train.columns) \n",
    "n_neurons_1   = 25          \n",
    "n_neurons_2   = 15\n",
    "epochs      = 100         "
   ]
  },
  {
   "cell_type": "markdown",
   "id": "bf2982d7",
   "metadata": {},
   "source": [
    "# Neural Network "
   ]
  },
  {
   "cell_type": "code",
   "execution_count": 25,
   "id": "2fe0ea63",
   "metadata": {},
   "outputs": [],
   "source": [
    "model = Sequential()         # a model consisting of successive layers\n",
    "# input layer\n",
    "model.add(Dense(n_neurons_1, input_dim=input_dim, activation='relu'))\n",
    "# 2nd layer\n",
    "model.add(Dense(n_neurons_2, activation='relu'))\n",
    "# output layer, with one neuron\n",
    "model.add(Dense(1, activation='sigmoid'))\n",
    "# compile the model\n",
    "model.compile(loss='binary_crossentropy', optimizer='adam', metrics=['accuracy'])"
   ]
  },
  {
   "cell_type": "markdown",
   "id": "36564cdd",
   "metadata": {},
   "source": [
    "# Fitting the Model"
   ]
  },
  {
   "cell_type": "code",
   "execution_count": null,
   "id": "6dde7a24",
   "metadata": {},
   "outputs": [],
   "source": [
    "model.fit(X_train, y_train, epochs=epochs, verbose=0)"
   ]
  },
  {
   "cell_type": "markdown",
   "id": "6f694646",
   "metadata": {},
   "source": [
    "# Making Predictions"
   ]
  },
  {
   "cell_type": "code",
   "execution_count": 13,
   "id": "494b94d3",
   "metadata": {},
   "outputs": [
    {
     "name": "stdout",
     "output_type": "stream",
     "text": [
      "14/14 [==============================] - 0s 3ms/step\n"
     ]
    }
   ],
   "source": [
    "predictions = model.predict(final_X_test)"
   ]
  },
  {
   "cell_type": "markdown",
   "id": "55e01576",
   "metadata": {},
   "source": [
    "# Setting Threshold"
   ]
  },
  {
   "cell_type": "code",
   "execution_count": 14,
   "id": "e9cc98b9",
   "metadata": {},
   "outputs": [],
   "source": [
    "predictions = (predictions > 0.5)*1"
   ]
  },
  {
   "cell_type": "markdown",
   "id": "fd81206a",
   "metadata": {},
   "source": [
    "# Creating a pandas Dataframe"
   ]
  },
  {
   "cell_type": "code",
   "execution_count": 15,
   "id": "50925ac5",
   "metadata": {},
   "outputs": [],
   "source": [
    "output = pd.DataFrame({'PassengerId': test_data.PassengerId, 'Survived': predictions.flatten()})"
   ]
  },
  {
   "cell_type": "markdown",
   "id": "93fffc0f",
   "metadata": {},
   "source": [
    "# Output"
   ]
  },
  {
   "cell_type": "code",
   "execution_count": 16,
   "id": "aaa80b11",
   "metadata": {},
   "outputs": [
    {
     "data": {
      "text/html": [
       "<div>\n",
       "<style scoped>\n",
       "    .dataframe tbody tr th:only-of-type {\n",
       "        vertical-align: middle;\n",
       "    }\n",
       "\n",
       "    .dataframe tbody tr th {\n",
       "        vertical-align: top;\n",
       "    }\n",
       "\n",
       "    .dataframe thead th {\n",
       "        text-align: right;\n",
       "    }\n",
       "</style>\n",
       "<table border=\"1\" class=\"dataframe\">\n",
       "  <thead>\n",
       "    <tr style=\"text-align: right;\">\n",
       "      <th></th>\n",
       "      <th>PassengerId</th>\n",
       "      <th>Survived</th>\n",
       "    </tr>\n",
       "  </thead>\n",
       "  <tbody>\n",
       "    <tr>\n",
       "      <th>0</th>\n",
       "      <td>892</td>\n",
       "      <td>0</td>\n",
       "    </tr>\n",
       "    <tr>\n",
       "      <th>1</th>\n",
       "      <td>893</td>\n",
       "      <td>0</td>\n",
       "    </tr>\n",
       "    <tr>\n",
       "      <th>2</th>\n",
       "      <td>894</td>\n",
       "      <td>0</td>\n",
       "    </tr>\n",
       "    <tr>\n",
       "      <th>3</th>\n",
       "      <td>895</td>\n",
       "      <td>0</td>\n",
       "    </tr>\n",
       "    <tr>\n",
       "      <th>4</th>\n",
       "      <td>896</td>\n",
       "      <td>1</td>\n",
       "    </tr>\n",
       "    <tr>\n",
       "      <th>...</th>\n",
       "      <td>...</td>\n",
       "      <td>...</td>\n",
       "    </tr>\n",
       "    <tr>\n",
       "      <th>413</th>\n",
       "      <td>1305</td>\n",
       "      <td>0</td>\n",
       "    </tr>\n",
       "    <tr>\n",
       "      <th>414</th>\n",
       "      <td>1306</td>\n",
       "      <td>1</td>\n",
       "    </tr>\n",
       "    <tr>\n",
       "      <th>415</th>\n",
       "      <td>1307</td>\n",
       "      <td>0</td>\n",
       "    </tr>\n",
       "    <tr>\n",
       "      <th>416</th>\n",
       "      <td>1308</td>\n",
       "      <td>0</td>\n",
       "    </tr>\n",
       "    <tr>\n",
       "      <th>417</th>\n",
       "      <td>1309</td>\n",
       "      <td>0</td>\n",
       "    </tr>\n",
       "  </tbody>\n",
       "</table>\n",
       "<p>418 rows × 2 columns</p>\n",
       "</div>"
      ],
      "text/plain": [
       "     PassengerId  Survived\n",
       "0            892         0\n",
       "1            893         0\n",
       "2            894         0\n",
       "3            895         0\n",
       "4            896         1\n",
       "..           ...       ...\n",
       "413         1305         0\n",
       "414         1306         1\n",
       "415         1307         0\n",
       "416         1308         0\n",
       "417         1309         0\n",
       "\n",
       "[418 rows x 2 columns]"
      ]
     },
     "execution_count": 16,
     "metadata": {},
     "output_type": "execute_result"
    }
   ],
   "source": [
    "output"
   ]
  },
  {
   "cell_type": "code",
   "execution_count": null,
   "id": "3c993e8c",
   "metadata": {},
   "outputs": [],
   "source": []
  }
 ],
 "metadata": {
  "kernelspec": {
   "display_name": "Python 3 (ipykernel)",
   "language": "python",
   "name": "python3"
  },
  "language_info": {
   "codemirror_mode": {
    "name": "ipython",
    "version": 3
   },
   "file_extension": ".py",
   "mimetype": "text/x-python",
   "name": "python",
   "nbconvert_exporter": "python",
   "pygments_lexer": "ipython3",
   "version": "3.9.15"
  }
 },
 "nbformat": 4,
 "nbformat_minor": 5
}
